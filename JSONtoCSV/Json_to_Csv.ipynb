{
 "cells": [
  {
   "cell_type": "code",
   "execution_count": null,
   "id": "33fada1f",
   "metadata": {},
   "outputs": [],
   "source": [
    "import json\n",
    "import csv\n",
    "import pandas as pd\n",
    "from collections import defaultdict"
   ]
  },
  {
   "cell_type": "code",
   "execution_count": null,
   "id": "b3debfd6",
   "metadata": {},
   "outputs": [],
   "source": [
    "collistl=[]\n",
    "#to store columns headers\n",
    "collist=[]\n",
    "#to store column data"
   ]
  },
  {
   "cell_type": "markdown",
   "id": "a37224be",
   "metadata": {},
   "source": [
    "### Function to extract column headers"
   ]
  },
  {
   "cell_type": "code",
   "execution_count": null,
   "id": "0eda6419",
   "metadata": {},
   "outputs": [],
   "source": [
    "def checkprint(ft,collist2,s):\n",
    "    if isinstance(ft,dict)==True:\n",
    "        i=str(collist2[-1])\n",
    "        for k in ft:\n",
    "            if(isinstance(k,(dict,list))==True):\n",
    "                i=str(collist2[-1])\n",
    "                rt=s+str(k)+i\n",
    "                collist2.append(rt)\n",
    "            else:\n",
    "                collist2.append(k+s)\n",
    "            collist2=checkprint(ft[k],collist2,'')\n",
    "    elif isinstance(ft,list)==True:\n",
    "        #print(ft)\n",
    "        m=str(collist2[-1])\n",
    "        for r in range(1,len(ft)+1):\n",
    "            y=m+str(r)\n",
    "            if(isinstance(ft[r-1],(dict,list))!=True):\n",
    "                y=s+'_'+y\n",
    "                collist2.append(y)\n",
    "                collist2=checkprint(ft[r-1],collist2,y)\n",
    "            elif(isinstance(ft[r-1],(dict))==True):\n",
    "                y=s+'_'+y\n",
    "                #collist2.append(y)\n",
    "                collist2=checkprint(ft[r-1],collist2,y)\n",
    "                #collist2=checkprint(ft[r-1],collist2)\n",
    "            else:\n",
    "                y=''\n",
    "                m=''\n",
    "                collist2=checkprint(ft[r-1],collist2,'')\n",
    "    else:\n",
    "        #print(ft)\n",
    "        #ts=\"\\\"\"+str(ft)+\"\\\"\"\n",
    "        #collist2.append(ts)\n",
    "        pass\n",
    "    return collist2"
   ]
  },
  {
   "cell_type": "markdown",
   "id": "bf01a610",
   "metadata": {},
   "source": [
    "### Function to extract column data"
   ]
  },
  {
   "cell_type": "code",
   "execution_count": null,
   "id": "91281527",
   "metadata": {},
   "outputs": [],
   "source": [
    "def checkprint2(ft,collist2,s):\n",
    "    if isinstance(ft,dict)==True:\n",
    "        i=str(collist2[-1])\n",
    "        for k in ft:\n",
    "            if(isinstance(k,(dict,list))==True):\n",
    "                i=str(collist2[-1])\n",
    "                rt=s+str(k)+i\n",
    "                collist2.append(rt)\n",
    "            else:\n",
    "                collist2.append(k+s)\n",
    "            collist2=checkprint2(ft[k],collist2,'')\n",
    "    elif isinstance(ft,list)==True:\n",
    "        #print(ft)\n",
    "        m=str(collist2[-1])\n",
    "        for r in range(1,len(ft)+1):\n",
    "            y=m+str(r)\n",
    "            if(isinstance(ft[r-1],(dict,list))!=True):\n",
    "                y=s+'_'+y\n",
    "                collist2.append(y)\n",
    "                collist2=checkprint2(ft[r-1],collist2,y)\n",
    "            elif(isinstance(ft[r-1],(dict))==True):\n",
    "                y=s+'_'+y\n",
    "                #collist2.append(y)\n",
    "                collist2=checkprint2(ft[r-1],collist2,y)\n",
    "                #collist2=checkprint(ft[r-1],collist2)\n",
    "            else:\n",
    "                y=''\n",
    "                m=''\n",
    "                collist2=checkprint2(ft[r-1],collist2,'')\n",
    "    else:\n",
    "        #print(ft)\n",
    "        #ts=\"\\\"\"+str(ft)+\"\\\"\"\n",
    "        ts=str(ft)\n",
    "        collist2.append(ts)\n",
    "        pass\n",
    "    return collist2\n",
    " "
   ]
  },
  {
   "cell_type": "markdown",
   "id": "e6fb3526",
   "metadata": {},
   "source": [
    "### read the json file and call both functions"
   ]
  },
  {
   "cell_type": "code",
   "execution_count": null,
   "id": "6da7dd47",
   "metadata": {},
   "outputs": [],
   "source": [
    " with open('20K documents_sample.json') as json_file:\n",
    "    jsondata = json.load(json_file)\n",
    "    for key,value in jsondata.items():\n",
    "        for y in value:\n",
    "            collistm=[\"\"]\n",
    "            collistl.append(checkprint(y,collistm,''))\n",
    "   "
   ]
  },
  {
   "cell_type": "code",
   "execution_count": null,
   "id": "cf38e248",
   "metadata": {},
   "outputs": [],
   "source": [
    "         \n",
    "with open('20K documents_sample.json') as json_file:\n",
    "    jsondata = json.load(json_file)\n",
    "    for key,value in jsondata.items():\n",
    "        for y in value:\n",
    "            #print(y)\n",
    "            collistm=[\"\"]\n",
    "            collist.append(checkprint2(y,collistm,''))\n",
    "            \n",
    "print(\"no of papers \",len(collist))"
   ]
  },
  {
   "cell_type": "markdown",
   "id": "ee0aef10",
   "metadata": {},
   "source": [
    "### Add column names to array"
   ]
  },
  {
   "cell_type": "code",
   "execution_count": null,
   "id": "b6048ce5",
   "metadata": {},
   "outputs": [],
   "source": [
    "temp=[]\n",
    "\n",
    "for i in collistl:\n",
    "    #print(i)\n",
    "    if collistl[0]==i:\n",
    "        temp=i\n",
    "    else:\n",
    "        mark=0\n",
    "        for m in range(len(i)):\n",
    "            if i[m] not in temp:\n",
    "                #print(i[m])\n",
    "                mr=i[mark]\n",
    "                prev=temp.index(mr)\n",
    "                temp.insert(prev+1,i[m])\n",
    "            else:\n",
    "                mark=m\n",
    "#print(temp)\n",
    "                        "
   ]
  },
  {
   "cell_type": "markdown",
   "id": "e0e1e5c6",
   "metadata": {},
   "source": [
    "### Add column data to array"
   ]
  },
  {
   "cell_type": "code",
   "execution_count": null,
   "id": "55194b20",
   "metadata": {},
   "outputs": [],
   "source": [
    "          \n",
    "finalarr=[]      \n",
    "print(\"list length\",len(i))\n",
    "print(\"list length\",len(temp))\n",
    "count=0\n",
    "i=collist\n",
    "jm=0\n",
    "for i in collist:\n",
    "    final=['']*895\n",
    "    for val in i:\n",
    "        if(val not in temp):\n",
    "            final[jm]=val\n",
    "        else:\n",
    "            jm=temp.index(val)\n",
    "            final[jm]=''\n",
    "    finalarr.append(final)\n",
    "    \n",
    "#print(\"***************************************************************************\")\n",
    "#print(finalarr)        \n",
    "                \n",
    "                "
   ]
  },
  {
   "cell_type": "markdown",
   "id": "fe256381",
   "metadata": {},
   "source": [
    "### Write array to csv file"
   ]
  },
  {
   "cell_type": "code",
   "execution_count": null,
   "id": "305f4e56",
   "metadata": {},
   "outputs": [],
   "source": [
    "with open('Result.csv', 'w+', encoding='utf-8') as f:\n",
    "    writer = csv.writer(f)\n",
    "    writer.writerow(temp)       \n",
    "    writer.writerows(finalarr)"
   ]
  }
 ],
 "metadata": {
  "kernelspec": {
   "display_name": "Python 3 (ipykernel)",
   "language": "python",
   "name": "python3"
  },
  "language_info": {
   "codemirror_mode": {
    "name": "ipython",
    "version": 3
   },
   "file_extension": ".py",
   "mimetype": "text/x-python",
   "name": "python",
   "nbconvert_exporter": "python",
   "pygments_lexer": "ipython3",
   "version": "3.11.3"
  }
 },
 "nbformat": 4,
 "nbformat_minor": 5
}
